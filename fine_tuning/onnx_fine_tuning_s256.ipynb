{
 "cells": [
  {
   "cell_type": "markdown",
   "metadata": {},
   "source": [
    "# 1. 라이브러리 설치"
   ]
  },
  {
   "cell_type": "code",
   "execution_count": 3,
   "metadata": {},
   "outputs": [
    {
     "name": "stdout",
     "output_type": "stream",
     "text": [
      "Package            Version\n",
      "------------------ ------------\n",
      "asttokens          2.4.1\n",
      "certifi            2024.8.30\n",
      "charset-normalizer 3.4.0\n",
      "colorama           0.4.6\n",
      "coloredlogs        15.0.1\n",
      "comm               0.2.2\n",
      "contourpy          1.3.1\n",
      "cycler             0.12.1\n",
      "debugpy            1.8.7\n",
      "decorator          5.1.1\n",
      "exceptiongroup     1.2.2\n",
      "executing          2.1.0\n",
      "filelock           3.16.1\n",
      "flatbuffers        24.12.23\n",
      "fonttools          4.54.1\n",
      "fsspec             2024.10.0\n",
      "humanfriendly      10.0\n",
      "idna               3.10\n",
      "importlib_metadata 8.5.0\n",
      "ipykernel          6.29.5\n",
      "ipython            8.29.0\n",
      "jedi               0.19.1\n",
      "Jinja2             3.1.4\n",
      "jupyter_client     8.6.3\n",
      "jupyter_core       5.7.2\n",
      "kiwisolver         1.4.7\n",
      "MarkupSafe         3.0.2\n",
      "matplotlib         3.9.2\n",
      "matplotlib-inline  0.1.7\n",
      "mpmath             1.3.0\n",
      "nest-asyncio       1.6.0\n",
      "networkx           3.4.2\n",
      "numpy              1.26.4\n",
      "onnx               1.17.0\n",
      "onnxruntime-gpu    1.20.1\n",
      "opencv-python      4.10.0.84\n",
      "packaging          24.2\n",
      "pandas             2.2.3\n",
      "parso              0.8.4\n",
      "pickleshare        0.7.5\n",
      "pillow             11.0.0\n",
      "pip                24.3.1\n",
      "platformdirs       4.3.6\n",
      "prompt_toolkit     3.0.48\n",
      "protobuf           5.29.3\n",
      "psutil             6.1.0\n",
      "pure_eval          0.2.3\n",
      "py-cpuinfo         9.0.0\n",
      "Pygments           2.18.0\n",
      "pyparsing          3.2.0\n",
      "pyreadline3        3.5.4\n",
      "python-dateutil    2.9.0\n",
      "pytz               2024.2\n",
      "pywin32            308\n",
      "PyYAML             6.0.2\n",
      "pyzmq              26.2.0\n",
      "requests           2.32.3\n",
      "scipy              1.14.1\n",
      "seaborn            0.13.2\n",
      "setuptools         75.3.0\n",
      "six                1.16.0\n",
      "stack-data         0.6.3\n",
      "sympy              1.13.1\n",
      "tensorflow-gpu     2.10.0\n",
      "torch              2.5.1+cu121\n",
      "torchaudio         2.5.1+cu121\n",
      "torchvision        0.20.1+cu121\n",
      "tornado            6.4.1\n",
      "tqdm               4.67.0\n",
      "traitlets          5.14.3\n",
      "typing_extensions  4.12.2\n",
      "tzdata             2024.2\n",
      "ultralytics        8.3.31\n",
      "ultralytics-thop   2.0.11\n",
      "urllib3            2.2.3\n",
      "wcwidth            0.2.13\n",
      "wheel              0.45.0\n",
      "zipp               3.21.0\n"
     ]
    }
   ],
   "source": [
    "! pip list"
   ]
  },
  {
   "cell_type": "code",
   "execution_count": 1,
   "metadata": {},
   "outputs": [
    {
     "name": "stdout",
     "output_type": "stream",
     "text": [
      "Collecting onnx\n",
      "  Downloading onnx-1.17.0-cp310-cp310-win_amd64.whl.metadata (16 kB)\n",
      "Requirement already satisfied: numpy>=1.20 in c:\\users\\user\\appdata\\roaming\\python\\python310\\site-packages (from onnx) (1.26.4)\n",
      "Collecting protobuf>=3.20.2 (from onnx)\n",
      "  Downloading protobuf-5.29.3-cp310-abi3-win_amd64.whl.metadata (592 bytes)\n",
      "Downloading onnx-1.17.0-cp310-cp310-win_amd64.whl (14.5 MB)\n",
      "   ---------------------------------------- 0.0/14.5 MB ? eta -:--:--\n",
      "   ------------------------------- -------- 11.5/14.5 MB 55.5 MB/s eta 0:00:01\n",
      "   ---------------------------------------- 14.5/14.5 MB 53.6 MB/s eta 0:00:00\n",
      "Downloading protobuf-5.29.3-cp310-abi3-win_amd64.whl (434 kB)\n",
      "Installing collected packages: protobuf, onnx\n",
      "Successfully installed onnx-1.17.0 protobuf-5.29.3\n"
     ]
    },
    {
     "name": "stderr",
     "output_type": "stream",
     "text": [
      "ERROR: pip's dependency resolver does not currently take into account all the packages that are installed. This behaviour is the source of the following dependency conflicts.\n",
      "tensorflow-gpu 2.10.0 requires absl-py>=1.0.0, which is not installed.\n",
      "tensorflow-gpu 2.10.0 requires astunparse>=1.6.0, which is not installed.\n",
      "tensorflow-gpu 2.10.0 requires flatbuffers>=2.0, which is not installed.\n",
      "tensorflow-gpu 2.10.0 requires gast<=0.4.0,>=0.2.1, which is not installed.\n",
      "tensorflow-gpu 2.10.0 requires google-pasta>=0.1.1, which is not installed.\n",
      "tensorflow-gpu 2.10.0 requires grpcio<2.0,>=1.24.3, which is not installed.\n",
      "tensorflow-gpu 2.10.0 requires h5py>=2.9.0, which is not installed.\n",
      "tensorflow-gpu 2.10.0 requires keras<2.11,>=2.10.0, which is not installed.\n",
      "tensorflow-gpu 2.10.0 requires keras-preprocessing>=1.1.1, which is not installed.\n",
      "tensorflow-gpu 2.10.0 requires libclang>=13.0.0, which is not installed.\n",
      "tensorflow-gpu 2.10.0 requires opt-einsum>=2.3.2, which is not installed.\n",
      "tensorflow-gpu 2.10.0 requires tensorboard<2.11,>=2.10, which is not installed.\n",
      "tensorflow-gpu 2.10.0 requires tensorflow-estimator<2.11,>=2.10.0, which is not installed.\n",
      "tensorflow-gpu 2.10.0 requires tensorflow-io-gcs-filesystem>=0.23.1, which is not installed.\n",
      "tensorflow-gpu 2.10.0 requires termcolor>=1.1.0, which is not installed.\n",
      "tensorflow-gpu 2.10.0 requires wrapt>=1.11.0, which is not installed.\n",
      "tensorflow-gpu 2.10.0 requires protobuf<3.20,>=3.9.2, but you have protobuf 5.29.3 which is incompatible.\n"
     ]
    }
   ],
   "source": [
    "! pip install onnx"
   ]
  },
  {
   "cell_type": "code",
   "execution_count": 2,
   "metadata": {},
   "outputs": [
    {
     "name": "stdout",
     "output_type": "stream",
     "text": [
      "Collecting onnxruntime-gpu\n",
      "  Downloading onnxruntime_gpu-1.20.1-cp310-cp310-win_amd64.whl.metadata (4.7 kB)\n",
      "Collecting coloredlogs (from onnxruntime-gpu)\n",
      "  Downloading coloredlogs-15.0.1-py2.py3-none-any.whl.metadata (12 kB)\n",
      "Collecting flatbuffers (from onnxruntime-gpu)\n",
      "  Downloading flatbuffers-24.12.23-py2.py3-none-any.whl.metadata (876 bytes)\n",
      "Requirement already satisfied: numpy>=1.21.6 in c:\\users\\user\\appdata\\roaming\\python\\python310\\site-packages (from onnxruntime-gpu) (1.26.4)\n",
      "Requirement already satisfied: packaging in c:\\users\\user\\.conda\\envs\\pytorch\\lib\\site-packages (from onnxruntime-gpu) (24.2)\n",
      "Requirement already satisfied: protobuf in c:\\users\\user\\.conda\\envs\\pytorch\\lib\\site-packages (from onnxruntime-gpu) (5.29.3)\n",
      "Requirement already satisfied: sympy in c:\\users\\user\\.conda\\envs\\pytorch\\lib\\site-packages (from onnxruntime-gpu) (1.13.1)\n",
      "Collecting humanfriendly>=9.1 (from coloredlogs->onnxruntime-gpu)\n",
      "  Downloading humanfriendly-10.0-py2.py3-none-any.whl.metadata (9.2 kB)\n",
      "Requirement already satisfied: mpmath<1.4,>=1.1.0 in c:\\users\\user\\.conda\\envs\\pytorch\\lib\\site-packages (from sympy->onnxruntime-gpu) (1.3.0)\n",
      "Collecting pyreadline3 (from humanfriendly>=9.1->coloredlogs->onnxruntime-gpu)\n",
      "  Downloading pyreadline3-3.5.4-py3-none-any.whl.metadata (4.7 kB)\n",
      "Downloading onnxruntime_gpu-1.20.1-cp310-cp310-win_amd64.whl (279.7 MB)\n",
      "   ---------------------------------------- 0.0/279.7 MB ? eta -:--:--\n",
      "   - -------------------------------------- 11.3/279.7 MB 54.2 MB/s eta 0:00:05\n",
      "   --- ------------------------------------ 23.6/279.7 MB 57.5 MB/s eta 0:00:05\n",
      "   ----- ---------------------------------- 35.7/279.7 MB 56.6 MB/s eta 0:00:05\n",
      "   ------ --------------------------------- 47.7/279.7 MB 56.2 MB/s eta 0:00:05\n",
      "   ------- -------------------------------- 55.3/279.7 MB 52.6 MB/s eta 0:00:05\n",
      "   --------- ------------------------------ 64.7/279.7 MB 50.9 MB/s eta 0:00:05\n",
      "   ---------- ----------------------------- 76.8/279.7 MB 52.1 MB/s eta 0:00:04\n",
      "   ----------- ---------------------------- 78.9/279.7 MB 48.4 MB/s eta 0:00:05\n",
      "   ----------- ---------------------------- 82.3/279.7 MB 43.4 MB/s eta 0:00:05\n",
      "   ------------- -------------------------- 94.6/279.7 MB 44.7 MB/s eta 0:00:05\n",
      "   -------------- ------------------------ 107.0/279.7 MB 45.8 MB/s eta 0:00:04\n",
      "   --------------- ----------------------- 113.8/279.7 MB 45.1 MB/s eta 0:00:04\n",
      "   ---------------- ---------------------- 121.6/279.7 MB 45.7 MB/s eta 0:00:04\n",
      "   ----------------- --------------------- 122.4/279.7 MB 41.8 MB/s eta 0:00:04\n",
      "   ------------------ -------------------- 134.7/279.7 MB 42.4 MB/s eta 0:00:04\n",
      "   -------------------- ------------------ 146.8/279.7 MB 43.4 MB/s eta 0:00:04\n",
      "   ---------------------- ---------------- 158.1/279.7 MB 43.9 MB/s eta 0:00:03\n",
      "   ----------------------- --------------- 170.1/279.7 MB 44.6 MB/s eta 0:00:03\n",
      "   ------------------------- ------------- 182.2/279.7 MB 45.3 MB/s eta 0:00:03\n",
      "   -------------------------- ------------ 189.8/279.7 MB 44.9 MB/s eta 0:00:03\n",
      "   ---------------------------- ---------- 201.9/279.7 MB 45.4 MB/s eta 0:00:02\n",
      "   ----------------------------- --------- 214.2/279.7 MB 45.9 MB/s eta 0:00:02\n",
      "   ------------------------------- ------- 226.0/279.7 MB 46.3 MB/s eta 0:00:02\n",
      "   -------------------------------- ------ 236.2/279.7 MB 46.5 MB/s eta 0:00:01\n",
      "   ---------------------------------- ---- 247.7/279.7 MB 46.7 MB/s eta 0:00:01\n",
      "   ----------------------------------- --- 253.0/279.7 MB 45.9 MB/s eta 0:00:01\n",
      "   ----------------------------------- --- 255.3/279.7 MB 44.6 MB/s eta 0:00:01\n",
      "   ------------------------------------- - 267.6/279.7 MB 44.9 MB/s eta 0:00:01\n",
      "   --------------------------------------  279.4/279.7 MB 44.9 MB/s eta 0:00:01\n",
      "   --------------------------------------- 279.7/279.7 MB 43.6 MB/s eta 0:00:00\n",
      "Downloading coloredlogs-15.0.1-py2.py3-none-any.whl (46 kB)\n",
      "Downloading flatbuffers-24.12.23-py2.py3-none-any.whl (30 kB)\n",
      "Downloading humanfriendly-10.0-py2.py3-none-any.whl (86 kB)\n",
      "Downloading pyreadline3-3.5.4-py3-none-any.whl (83 kB)\n",
      "Installing collected packages: flatbuffers, pyreadline3, humanfriendly, coloredlogs, onnxruntime-gpu\n",
      "Successfully installed coloredlogs-15.0.1 flatbuffers-24.12.23 humanfriendly-10.0 onnxruntime-gpu-1.20.1 pyreadline3-3.5.4\n"
     ]
    },
    {
     "name": "stderr",
     "output_type": "stream",
     "text": [
      "ERROR: pip's dependency resolver does not currently take into account all the packages that are installed. This behaviour is the source of the following dependency conflicts.\n",
      "tensorflow-gpu 2.10.0 requires absl-py>=1.0.0, which is not installed.\n",
      "tensorflow-gpu 2.10.0 requires astunparse>=1.6.0, which is not installed.\n",
      "tensorflow-gpu 2.10.0 requires gast<=0.4.0,>=0.2.1, which is not installed.\n",
      "tensorflow-gpu 2.10.0 requires google-pasta>=0.1.1, which is not installed.\n",
      "tensorflow-gpu 2.10.0 requires grpcio<2.0,>=1.24.3, which is not installed.\n",
      "tensorflow-gpu 2.10.0 requires h5py>=2.9.0, which is not installed.\n",
      "tensorflow-gpu 2.10.0 requires keras<2.11,>=2.10.0, which is not installed.\n",
      "tensorflow-gpu 2.10.0 requires keras-preprocessing>=1.1.1, which is not installed.\n",
      "tensorflow-gpu 2.10.0 requires libclang>=13.0.0, which is not installed.\n",
      "tensorflow-gpu 2.10.0 requires opt-einsum>=2.3.2, which is not installed.\n",
      "tensorflow-gpu 2.10.0 requires tensorboard<2.11,>=2.10, which is not installed.\n",
      "tensorflow-gpu 2.10.0 requires tensorflow-estimator<2.11,>=2.10.0, which is not installed.\n",
      "tensorflow-gpu 2.10.0 requires tensorflow-io-gcs-filesystem>=0.23.1, which is not installed.\n",
      "tensorflow-gpu 2.10.0 requires termcolor>=1.1.0, which is not installed.\n",
      "tensorflow-gpu 2.10.0 requires wrapt>=1.11.0, which is not installed.\n",
      "tensorflow-gpu 2.10.0 requires protobuf<3.20,>=3.9.2, but you have protobuf 5.29.3 which is incompatible.\n"
     ]
    }
   ],
   "source": [
    "! pip install --upgrade onnxruntime-gpu"
   ]
  },
  {
   "cell_type": "markdown",
   "metadata": {},
   "source": [
    "# 2. Fine-tuning (추가 학습)"
   ]
  },
  {
   "cell_type": "code",
   "execution_count": null,
   "metadata": {},
   "outputs": [],
   "source": [
    "# 폴더 디렉토리 구조\n",
    "# 현재 폴더/\n",
    "#   ├─ Train/\n",
    "#   │   ├─ Fake/\n",
    "#   │   └─ Real/\n",
    "#   ├─ Validation/\n",
    "#   │   ├─ Fake/\n",
    "#   │   └─ Real/\n",
    "#   ├─ Test/\n",
    "#   │   ├─ Fake/\n",
    "#   │   └─ Real/\n",
    "#   ├─ onnx_fine_tuning_s256.ipynb  (본 예시 코드)\n",
    "#   ├─ 학습된 모델 파일.pth  (본 예시 코드에서 생성)\n",
    "#   └─ 학습된 모델 파일.onnx  (본 예시 코드에서 생성)"
   ]
  },
  {
   "cell_type": "code",
   "execution_count": 4,
   "metadata": {},
   "outputs": [
    {
     "name": "stdout",
     "output_type": "stream",
     "text": [
      "PyTorch version: 2.5.1+cu121\n",
      "torchvision version: 0.20.1+cu121\n",
      "Is CUDA available: True\n",
      "NVIDIA GeForce RTX 4070 Ti SUPER\n"
     ]
    }
   ],
   "source": [
    "import torch\n",
    "import torchvision\n",
    "\n",
    "print(f\"PyTorch version: {torch.__version__}\")\n",
    "print(f\"torchvision version: {torchvision.__version__}\")\n",
    "print(f\"Is CUDA available: {torch.cuda.is_available()}\")\n",
    "if torch.cuda.is_available():\n",
    "    print(torch.cuda.get_device_name(0))\n",
    "else:\n",
    "    print(\"CUDA is not available.\")"
   ]
  },
  {
   "cell_type": "code",
   "execution_count": 1,
   "metadata": {},
   "outputs": [
    {
     "name": "stderr",
     "output_type": "stream",
     "text": [
      "c:\\Users\\user\\.conda\\envs\\pytorch\\lib\\site-packages\\torchvision\\models\\_utils.py:208: UserWarning: The parameter 'pretrained' is deprecated since 0.13 and may be removed in the future, please use 'weights' instead.\n",
      "  warnings.warn(\n",
      "c:\\Users\\user\\.conda\\envs\\pytorch\\lib\\site-packages\\torchvision\\models\\_utils.py:223: UserWarning: Arguments other than a weight enum or `None` for 'weights' are deprecated since 0.13 and may be removed in the future. The current behavior is equivalent to passing `weights=EfficientNet_B0_Weights.IMAGENET1K_V1`. You can also use `weights=EfficientNet_B0_Weights.DEFAULT` to get the most up-to-date weights.\n",
      "  warnings.warn(msg)\n"
     ]
    },
    {
     "name": "stdout",
     "output_type": "stream",
     "text": [
      "Train Dataset class to index mapping:\n",
      "{'Fake': 0, 'Real': 1}\n"
     ]
    }
   ],
   "source": [
    "import torch\n",
    "import torchvision.models as models\n",
    "import torch.nn as nn\n",
    "import time\n",
    "import torch.backends.cudnn as cudnn\n",
    "\n",
    "# -------------------------------------\n",
    "# 0) device 설정\n",
    "# -------------------------------------\n",
    "cudnn.benchmark = True\n",
    "device = torch.device(\"cuda\" if torch.cuda.is_available() else \"cpu\")\n",
    "\n",
    "# -------------------------------------\n",
    "# 1) 모델 선언 및 마지막 레이어 교체\n",
    "# -------------------------------------\n",
    "model = models.efficientnet_b0(pretrained=True)  # ImageNet 사전학습\n",
    "num_features = model.classifier[1].in_features\n",
    "model.classifier[1] = nn.Linear(num_features, 2)  # binary class (Fake, Real)\n",
    "\n",
    "# -------------------------------------\n",
    "# 2) 데이터 로더 설정\n",
    "# -------------------------------------\n",
    "from torchvision import transforms, datasets\n",
    "from torch.utils.data import DataLoader\n",
    "import os\n",
    "\n",
    "base_dir = os.getcwd()  # 현재 작업 디렉토리\n",
    "train_dir = os.path.join(base_dir, 'Train')\n",
    "val_dir   = os.path.join(base_dir, 'Validation')\n",
    "test_dir  = os.path.join(base_dir, 'Test')\n",
    "\n",
    "batch = 16\n",
    "img_resized = (256, 256)\n",
    "\n",
    "train_transform = transforms.Compose([\n",
    "    transforms.Resize(img_resized),\n",
    "    transforms.RandomHorizontalFlip(),\n",
    "    transforms.ToTensor(),\n",
    "    transforms.Normalize([0.485,0.456,0.406],\n",
    "                         [0.229,0.224,0.225])\n",
    "])\n",
    "\n",
    "test_transform = transforms.Compose([\n",
    "    transforms.Resize(img_resized),\n",
    "    transforms.ToTensor(),\n",
    "    transforms.Normalize([0.485,0.456,0.406],\n",
    "                         [0.229,0.224,0.225])\n",
    "])\n",
    "\n",
    "train_dataset = datasets.ImageFolder(root=train_dir, transform=train_transform)\n",
    "val_dataset   = datasets.ImageFolder(root=val_dir, transform=test_transform)\n",
    "test_dataset  = datasets.ImageFolder(root=test_dir, transform=test_transform)\n",
    "\n",
    "# num_workers=0 == 메인 프로세스에서만 데이터를 로드하도록 함, CPU 코어 수 x (0.5 to 1.0) 로 설정 권장\n",
    "# pin_memory=True == 데이터를 GPU로 전송할 때 복사를 사용\n",
    "train_loader  = DataLoader(train_dataset, batch_size=batch, shuffle=True,  num_workers=8, pin_memory=True)\n",
    "val_loader    = DataLoader(val_dataset,   batch_size=batch, shuffle=False, num_workers=8, pin_memory=True)\n",
    "test_loader   = DataLoader(test_dataset,  batch_size=batch, shuffle=False, num_workers=8, pin_memory=True)\n",
    "\n",
    "# 클래스 인덱스 확인\n",
    "print(\"Train Dataset class to index mapping:\")\n",
    "print(train_dataset.class_to_idx)\n"
   ]
  },
  {
   "cell_type": "code",
   "execution_count": 2,
   "metadata": {},
   "outputs": [
    {
     "name": "stderr",
     "output_type": "stream",
     "text": [
      "Epoch 1/50 - Training: 100%|██████████| 8925/8925 [03:57<00:00, 37.64it/s]\n"
     ]
    },
    {
     "name": "stdout",
     "output_type": "stream",
     "text": [
      "Validation loss decreased (inf --> 0.068305).  Saving model ...\n",
      "Epoch [1/50] Train Loss: 0.0696 Train Acc: 0.9738 | Val Loss: 0.0683 Val Acc: 0.9745 | Time: 267.46 sec\n",
      "\n"
     ]
    },
    {
     "name": "stderr",
     "output_type": "stream",
     "text": [
      "Epoch 2/50 - Training: 100%|██████████| 8925/8925 [03:53<00:00, 38.30it/s]\n"
     ]
    },
    {
     "name": "stdout",
     "output_type": "stream",
     "text": [
      "Validation loss decreased (0.068305 --> 0.044653).  Saving model ...\n",
      "Epoch [2/50] Train Loss: 0.0363 Train Acc: 0.9859 | Val Loss: 0.0447 Val Acc: 0.9853 | Time: 263.01 sec\n",
      "\n"
     ]
    },
    {
     "name": "stderr",
     "output_type": "stream",
     "text": [
      "Epoch 3/50 - Training: 100%|██████████| 8925/8925 [03:53<00:00, 38.18it/s]\n"
     ]
    },
    {
     "name": "stdout",
     "output_type": "stream",
     "text": [
      "EarlyStopping counter: 1 out of 5\n",
      "Epoch [3/50] Train Loss: 0.0277 Train Acc: 0.9888 | Val Loss: 0.0593 Val Acc: 0.9780 | Time: 264.09 sec\n",
      "\n"
     ]
    },
    {
     "name": "stderr",
     "output_type": "stream",
     "text": [
      "Epoch 4/50 - Training: 100%|██████████| 8925/8925 [03:55<00:00, 37.95it/s]\n"
     ]
    },
    {
     "name": "stdout",
     "output_type": "stream",
     "text": [
      "Validation loss decreased (0.044653 --> 0.041086).  Saving model ...\n",
      "Epoch [4/50] Train Loss: 0.0230 Train Acc: 0.9908 | Val Loss: 0.0411 Val Acc: 0.9880 | Time: 265.58 sec\n",
      "\n"
     ]
    },
    {
     "name": "stderr",
     "output_type": "stream",
     "text": [
      "Epoch 5/50 - Training: 100%|██████████| 8925/8925 [03:55<00:00, 37.93it/s]\n"
     ]
    },
    {
     "name": "stdout",
     "output_type": "stream",
     "text": [
      "EarlyStopping counter: 1 out of 5\n",
      "Epoch [5/50] Train Loss: 0.0199 Train Acc: 0.9919 | Val Loss: 0.0476 Val Acc: 0.9864 | Time: 265.52 sec\n",
      "\n"
     ]
    },
    {
     "name": "stderr",
     "output_type": "stream",
     "text": [
      "Epoch 6/50 - Training: 100%|██████████| 8925/8925 [03:53<00:00, 38.19it/s]\n"
     ]
    },
    {
     "name": "stdout",
     "output_type": "stream",
     "text": [
      "EarlyStopping counter: 2 out of 5\n",
      "Epoch [6/50] Train Loss: 0.0179 Train Acc: 0.9926 | Val Loss: 0.0424 Val Acc: 0.9873 | Time: 264.95 sec\n",
      "\n"
     ]
    },
    {
     "name": "stderr",
     "output_type": "stream",
     "text": [
      "Epoch 7/50 - Training: 100%|██████████| 8925/8925 [03:56<00:00, 37.68it/s]\n"
     ]
    },
    {
     "name": "stdout",
     "output_type": "stream",
     "text": [
      "EarlyStopping counter: 3 out of 5\n",
      "Epoch [7/50] Train Loss: 0.0152 Train Acc: 0.9937 | Val Loss: 0.0439 Val Acc: 0.9883 | Time: 268.96 sec\n",
      "\n"
     ]
    },
    {
     "name": "stderr",
     "output_type": "stream",
     "text": [
      "Epoch 8/50 - Training: 100%|██████████| 8925/8925 [04:00<00:00, 37.07it/s]\n"
     ]
    },
    {
     "name": "stdout",
     "output_type": "stream",
     "text": [
      "EarlyStopping counter: 4 out of 5\n",
      "Epoch [8/50] Train Loss: 0.0140 Train Acc: 0.9942 | Val Loss: 0.0487 Val Acc: 0.9866 | Time: 272.04 sec\n",
      "\n"
     ]
    },
    {
     "name": "stderr",
     "output_type": "stream",
     "text": [
      "Epoch 9/50 - Training: 100%|██████████| 8925/8925 [04:00<00:00, 37.15it/s]\n"
     ]
    },
    {
     "name": "stdout",
     "output_type": "stream",
     "text": [
      "EarlyStopping counter: 5 out of 5\n",
      "Epoch [9/50] Train Loss: 0.0126 Train Acc: 0.9948 | Val Loss: 0.0426 Val Acc: 0.9879 | Time: 270.33 sec\n",
      "\n",
      "Early stopping triggered. Training stopped.\n",
      "Total Training Time: 40.03 minutes\n"
     ]
    },
    {
     "data": {
      "image/png": "[encoded data removed]",
      "text/plain": [
       "<Figure size 1200x400 with 2 Axes>"
      ]
     },
     "metadata": {},
     "output_type": "display_data"
    }
   ],
   "source": [
    "\n",
    "# -------------------------------------\n",
    "# 3) 학습 설정 (Loss, Optimizer 등)\n",
    "# -------------------------------------\n",
    "import torch.optim as optim\n",
    "\n",
    "model = model.to(device)  # 모델을 device(GPU/CPU)에 올림\n",
    "criterion = nn.CrossEntropyLoss()\n",
    "optimizer = optim.Adam(model.parameters(), lr=1e-4)\n",
    "\n",
    "num_epochs = 50\n",
    "\n",
    "# -------------------------------------\n",
    "# 4) EarlyStopping 클래스 정의\n",
    "# -------------------------------------\n",
    "class EarlyStopping:\n",
    "    def __init__(self, patience=5, verbose=False, delta=0, path='best_model.pth'):\n",
    "        \"\"\"\n",
    "        Args:\n",
    "            patience (int): 개선이 없을 때 기다릴 에포크 수\n",
    "            verbose (bool): 상세 로그 출력 여부\n",
    "            delta (float): 개선의 최소 변화량\n",
    "            path (str): 최적 모델을 저장할 경로\n",
    "        \"\"\"\n",
    "        self.patience = patience\n",
    "        self.verbose = verbose\n",
    "        self.delta = delta\n",
    "        self.path = path\n",
    "        self.counter = 0\n",
    "        self.best_score = None\n",
    "        self.early_stop = False\n",
    "        self.val_loss_min = float('inf')\n",
    "\n",
    "    def __call__(self, val_loss, model):\n",
    "        score = -val_loss  # 검증 손실이 낮을수록 좋으므로 음수로 변환\n",
    "\n",
    "        if self.best_score is None:\n",
    "            self.best_score = score\n",
    "            self.save_checkpoint(val_loss, model)\n",
    "        elif score < self.best_score + self.delta:\n",
    "            self.counter += 1\n",
    "            if self.verbose:\n",
    "                print(f'EarlyStopping counter: {self.counter} out of {self.patience}')\n",
    "            if self.counter >= self.patience:\n",
    "                self.early_stop = True\n",
    "        else:\n",
    "            self.best_score = score\n",
    "            self.save_checkpoint(val_loss, model)\n",
    "            self.counter = 0\n",
    "\n",
    "    def save_checkpoint(self, val_loss, model):\n",
    "        \"\"\"검증 손실이 감소하면 모델을 저장\"\"\"\n",
    "        if self.verbose:\n",
    "            print(f'Validation loss decreased ({self.val_loss_min:.6f} --> {val_loss:.6f}).  Saving model ...')\n",
    "        torch.save(model.state_dict(), self.path)\n",
    "        self.val_loss_min = val_loss\n",
    "\n",
    "# -------------------------------------\n",
    "# 5) Early Stopping 인스턴스 생성\n",
    "# -------------------------------------\n",
    "early_stopping = EarlyStopping(patience=5, verbose=True, path='best_model.pth')\n",
    "\n",
    "# -------------------------------------\n",
    "# 6) Training Loop with Early Stopping\n",
    "# -------------------------------------\n",
    "import matplotlib.pyplot as plt\n",
    "from tqdm import tqdm\n",
    "\n",
    "train_acc_history = []\n",
    "train_loss_history = []\n",
    "val_acc_history = []\n",
    "val_loss_history = []\n",
    "\n",
    "total_start_time = time.time()\n",
    "\n",
    "for epoch in range(num_epochs):\n",
    "    start_time = time.time()  # 에포크 시작 시간 기록\n",
    "    \n",
    "    # -----------------\n",
    "    # Train Loop\n",
    "    # -----------------\n",
    "    model.train()\n",
    "    running_loss = 0.0\n",
    "    correct = 0\n",
    "    total = 0\n",
    "\n",
    "    for images, labels in tqdm(train_loader, desc=f\"Epoch {epoch+1}/{num_epochs} - Training\"):\n",
    "        images, labels = images.to(device), labels.to(device)\n",
    "\n",
    "        optimizer.zero_grad()\n",
    "        outputs = model(images)\n",
    "        loss = criterion(outputs, labels)\n",
    "        loss.backward()\n",
    "        optimizer.step()\n",
    "\n",
    "        running_loss += loss.item() * images.size(0)\n",
    "        _, preds = torch.max(outputs, 1)\n",
    "        correct += torch.sum(preds == labels).item()\n",
    "        total += labels.size(0)\n",
    "\n",
    "    epoch_loss = running_loss / total\n",
    "    epoch_acc  = correct / total\n",
    "    \n",
    "    train_acc_history.append(epoch_acc)\n",
    "    train_loss_history.append(epoch_loss)\n",
    "\n",
    "    # -----------------\n",
    "    # Validation Loop\n",
    "    # -----------------\n",
    "    model.eval()\n",
    "    val_loss = 0.0\n",
    "    val_correct = 0\n",
    "    val_total = 0\n",
    "    with torch.no_grad():\n",
    "        for val_images, val_labels in val_loader:\n",
    "            val_images, val_labels = val_images.to(device), val_labels.to(device)\n",
    "            val_outputs = model(val_images)\n",
    "            v_loss = criterion(val_outputs, val_labels)\n",
    "            val_loss += v_loss.item() * val_images.size(0)\n",
    "            _, v_preds = torch.max(val_outputs, 1)\n",
    "            val_correct += torch.sum(v_preds == val_labels).item()\n",
    "            val_total += val_labels.size(0)\n",
    "\n",
    "    val_epoch_loss = val_loss / val_total\n",
    "    val_epoch_acc  = val_correct / val_total\n",
    "    \n",
    "    val_acc_history.append(val_epoch_acc)\n",
    "    val_loss_history.append(val_epoch_loss)\n",
    "\n",
    "    # -----------------\n",
    "    # Early Stopping 체크\n",
    "    # -----------------\n",
    "    early_stopping(val_epoch_loss, model)\n",
    "\n",
    "    end_time = time.time()  # 에포크 종료 시간 기록\n",
    "    epoch_duration = end_time - start_time  # 에포크 소요 시간 계산\n",
    "\n",
    "    print(f\"Epoch [{epoch+1}/{num_epochs}] \"\n",
    "          f\"Train Loss: {epoch_loss:.4f} Train Acc: {epoch_acc:.4f} | \"\n",
    "          f\"Val Loss: {val_epoch_loss:.4f} Val Acc: {val_epoch_acc:.4f} | \"\n",
    "          f\"Time: {epoch_duration:.2f} sec\\n\")\n",
    "\n",
    "    if early_stopping.early_stop:\n",
    "        print(\"Early stopping triggered. Training stopped.\")\n",
    "        break\n",
    "\n",
    "total_end_time = time.time()\n",
    "total_duration = total_end_time - total_start_time\n",
    "print(f\"Total Training Time: {total_duration/60:.2f} minutes\")\n",
    "\n",
    "# 모델 학습과정 그래프로 나타내기\n",
    "epochs = range(1, len(train_acc_history) + 1)\n",
    "\n",
    "fig, ax = plt.subplots(1, 2, figsize=(12, 4))\n",
    "\n",
    "ax[0].plot(epochs, train_acc_history, 'bo-', label='Training Accuracy')\n",
    "ax[0].plot(epochs, val_acc_history, 'ro-', label='Validation Accuracy')\n",
    "ax[0].set_title('Training & Validation Accuracy')\n",
    "ax[0].legend()\n",
    "ax[0].set_xlabel('Epochs')\n",
    "ax[0].set_ylabel('Accuracy')\n",
    "\n",
    "ax[1].plot(epochs, train_loss_history, 'b-o', label='Training Loss')\n",
    "ax[1].plot(epochs, val_loss_history, 'r-o', label='Validation Loss')\n",
    "ax[1].set_title('Training & Validation Loss')\n",
    "ax[1].legend()\n",
    "ax[1].set_xlabel('Epochs')\n",
    "ax[1].set_ylabel('Loss')\n",
    "\n",
    "plt.show()\n",
    "\n",
    "# -------------------------------------\n",
    "# 7) Model Save\n",
    "# -------------------------------------\n",
    "# best_model.pth 에 이미 최적 모델이 저장되었으므로, 추가로 현재 모델 상태를 저장할 수 있습니다.\n",
    "torch.save(model.state_dict(), \"final_model.pth\")\n"
   ]
  },
  {
   "cell_type": "code",
   "execution_count": 3,
   "metadata": {},
   "outputs": [
    {
     "name": "stderr",
     "output_type": "stream",
     "text": [
      "C:\\Users\\user\\AppData\\Local\\Temp\\ipykernel_27300\\1537564207.py:4: FutureWarning: You are using `torch.load` with `weights_only=False` (the current default value), which uses the default pickle module implicitly. It is possible to construct malicious pickle data which will execute arbitrary code during unpickling (See https://github.com/pytorch/pytorch/blob/main/SECURITY.md#untrusted-models for more details). In a future release, the default value for `weights_only` will be flipped to `True`. This limits the functions that could be executed during unpickling. Arbitrary objects will no longer be allowed to be loaded via this mode unless they are explicitly allowlisted by the user via `torch.serialization.add_safe_globals`. We recommend you start setting `weights_only=True` for any use case where you don't have full control of the loaded file. Please open an issue on GitHub for any issues related to this experimental feature.\n",
      "  model.load_state_dict(torch.load('best_model.pth'))\n"
     ]
    },
    {
     "name": "stdout",
     "output_type": "stream",
     "text": [
      "[Test] Loss: 1.7594, Accuracy: 0.8425\n"
     ]
    }
   ],
   "source": [
    "\n",
    "# -------------------------------------\n",
    "# 8) Test\n",
    "# -------------------------------------\n",
    "model.load_state_dict(torch.load('best_model.pth'))\n",
    "model.eval()\n",
    "\n",
    "test_loss = 0.0\n",
    "correct = 0\n",
    "total = 0\n",
    "\n",
    "with torch.no_grad():\n",
    "    for images, labels in test_loader:\n",
    "        images, labels = images.to(device), labels.to(device)\n",
    "\n",
    "        outputs = model(images)\n",
    "        loss = criterion(outputs, labels)\n",
    "        test_loss += loss.item() * images.size(0)\n",
    "\n",
    "        _, preds = torch.max(outputs, 1)  \n",
    "        correct += torch.sum(preds == labels).item()\n",
    "        total += labels.size(0)\n",
    "\n",
    "avg_loss = test_loss / total\n",
    "accuracy = correct / total\n",
    "\n",
    "print(f\"[Test] Loss: {avg_loss:.4f}, Accuracy: {accuracy:.4f}\")\n"
   ]
  },
  {
   "cell_type": "code",
   "execution_count": 1,
   "metadata": {},
   "outputs": [
    {
     "name": "stderr",
     "output_type": "stream",
     "text": [
      "c:\\Users\\user\\.conda\\envs\\pytorch\\lib\\site-packages\\torchvision\\models\\_utils.py:208: UserWarning: The parameter 'pretrained' is deprecated since 0.13 and may be removed in the future, please use 'weights' instead.\n",
      "  warnings.warn(\n",
      "c:\\Users\\user\\.conda\\envs\\pytorch\\lib\\site-packages\\torchvision\\models\\_utils.py:223: UserWarning: Arguments other than a weight enum or `None` for 'weights' are deprecated since 0.13 and may be removed in the future. The current behavior is equivalent to passing `weights=None`.\n",
      "  warnings.warn(msg)\n",
      "C:\\Users\\user\\AppData\\Local\\Temp\\ipykernel_31456\\3343572142.py:18: FutureWarning: You are using `torch.load` with `weights_only=False` (the current default value), which uses the default pickle module implicitly. It is possible to construct malicious pickle data which will execute arbitrary code during unpickling (See https://github.com/pytorch/pytorch/blob/main/SECURITY.md#untrusted-models for more details). In a future release, the default value for `weights_only` will be flipped to `True`. This limits the functions that could be executed during unpickling. Arbitrary objects will no longer be allowed to be loaded via this mode unless they are explicitly allowlisted by the user via `torch.serialization.add_safe_globals`. We recommend you start setting `weights_only=True` for any use case where you don't have full control of the loaded file. Please open an issue on GitHub for any issues related to this experimental feature.\n",
      "  onnx_model.load_state_dict(torch.load(pth_name, map_location=\"cpu\"))\n"
     ]
    },
    {
     "name": "stdout",
     "output_type": "stream",
     "text": [
      "ONNX 모델 저장 완료: deepfake_binary_s256_e4_early.onnx\n"
     ]
    }
   ],
   "source": [
    "# --------------------------------------------------\n",
    "# (추가) 학습된 모델을 ONNX 포맷으로 내보내기\n",
    "# --------------------------------------------------\n",
    "import torch\n",
    "import torchvision.models as models\n",
    "import torch.nn as nn\n",
    "import torch.onnx\n",
    "import os\n",
    "\n",
    "# base_dir = os.path.dirname(os.path.abspath(__file__))   # 현재 작업 디렉토리 (.py 파일과 같은 경로)\n",
    "base_dir = os.getcwd()   # 현재 작업 디렉토리 (.ipynb 파일과 같은 경로)\n",
    "pth_name = os.path.join(base_dir, \"deepfake_binary_s256_e4_early.pth\")\n",
    "\n",
    "# 1) 모델 구조 생성 & 파라미터 로드\n",
    "onnx_model = models.efficientnet_b0(pretrained=False)\n",
    "num_features = onnx_model.classifier[1].in_features\n",
    "onnx_model.classifier[1] = nn.Linear(num_features, 2)\n",
    "onnx_model.load_state_dict(torch.load(pth_name, map_location=\"cpu\"))\n",
    "onnx_model.eval()\n",
    "\n",
    "# 2) ONNX 변환\n",
    "onnx_model_name = \"deepfake_binary_s256_e4_early.onnx\"\n",
    "\n",
    "# (예시) 1개의 이미지(batch_size=1), 3채널, 128x128 크기\n",
    "dummy_input = torch.randn(1, 3, 256, 256, device='cpu')\n",
    "\n",
    "torch.onnx.export(\n",
    "    onnx_model,\n",
    "    dummy_input,\n",
    "    onnx_model_name,\n",
    "    input_names=[\"input\"],        # ONNX 모델에 들어갈 입력 이름\n",
    "    output_names=[\"output\"],      # ONNX 모델에서 뽑을 출력 이름\n",
    "    dynamic_axes={\n",
    "        \"input\": {0: \"batch_size\"},\n",
    "        \"output\": {0: \"batch_size\"}\n",
    "    },\n",
    "    opset_version=11,             # ONNX Opset 버전 (필요에 따라 변경)\n",
    "    do_constant_folding=True      # 상수 폴딩 최적화\n",
    ")\n",
    "\n",
    "print(f\"ONNX 모델 저장 완료: {onnx_model_name}\")\n"
   ]
  }
 ],
 "metadata": {
  "kernelspec": {
   "display_name": "pytorch",
   "language": "python",
   "name": "python3"
  },
  "language_info": {
   "codemirror_mode": {
    "name": "ipython",
    "version": 3
   },
   "file_extension": ".py",
   "mimetype": "text/x-python",
   "name": "python",
   "nbconvert_exporter": "python",
   "pygments_lexer": "ipython3",
   "version": "3.10.15"
  }
 },
 "nbformat": 4,
 "nbformat_minor": 2
}
